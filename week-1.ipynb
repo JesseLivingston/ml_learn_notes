{
 "cells": [
  {
   "cell_type": "code",
   "execution_count": 3,
   "metadata": {},
   "outputs": [],
   "source": [
    "from sympy import *\n",
    "# x, y, z 这些常见符号已经在 sympy.abc 里定义过了， 直接用就行了， 就没必要再定义一次了\n",
    "from sympy.abc import *\n",
    "\n",
    "init_printing()"
   ]
  },
  {
   "cell_type": "code",
   "execution_count": 4,
   "metadata": {},
   "outputs": [
    {
     "data": {
      "image/png": "[encoded data removed]",
      "text/latex": [
       "$\\displaystyle h{\\left(x \\right)} = \\theta_{0} + \\theta_{1} x$"
      ],
      "text/plain": [
       "h(x) = θ₀ + θ₁⋅x"
      ]
     },
     "execution_count": 4,
     "metadata": {},
     "output_type": "execute_result"
    }
   ],
   "source": [
    "# 单变量线性模型， y = a*x + b 这种\n",
    "# 先定义后面要用到的变量\n",
    "m = symbols(\"m\")\n",
    "x_i, y_i = symbols(\"x_i, y_i\")\n",
    "theta_0, theta_1 = symbols(\"theta_0, theta_1\")\n",
    "\n",
    "# 假设函数就是个比较简单的线性函数\n",
    "h = theta_0 + theta_1 * x\n",
    "# 显示得好看一点\n",
    "relational.Eq(Function(\"h\")(x), h)"
   ]
  },
  {
   "cell_type": "code",
   "execution_count": 5,
   "metadata": {},
   "outputs": [
    {
     "data": {
      "image/png": "[encoded data removed]",
      "text/latex": [
       "$\\displaystyle J{\\left(\\theta_{0},\\theta_{1} \\right)} = \\frac{\\sum_{i=1}^{m} \\left(\\theta_{0} + \\theta_{1} x_{i} - y_{i}\\right)^{2}}{2 m}$"
      ],
      "text/plain": [
       "              m                     \n",
       "             ___                    \n",
       "             ╲                      \n",
       "              ╲                    2\n",
       "              ╱   (θ₀ + θ₁⋅xᵢ - yᵢ) \n",
       "             ╱                      \n",
       "             ‾‾‾                    \n",
       "            i = 1                   \n",
       "J(θ₀, θ₁) = ────────────────────────\n",
       "                      2⋅m           "
      ]
     },
     "execution_count": 5,
     "metadata": {},
     "output_type": "execute_result"
    }
   ],
   "source": [
    "# 成本函数就是在每一个训练样本上的损失之和， 成本函数是关于 theta_0, theta_1 的函数， 把各 x_i, y_i 代入到 h(x) 计算加和\n",
    "j = Sum(((h - y)**2).subs(x, x_i).subs(y, y_i), (i, 1, m))/(2*m)\n",
    "relational.Eq(Function(\"J\")(theta_0, theta_1), j)"
   ]
  },
  {
   "cell_type": "code",
   "execution_count": 6,
   "metadata": {},
   "outputs": [
    {
     "data": {
      "image/png": "[encoded data removed]",
      "text/latex": [
       "$\\displaystyle \\frac{\\partial}{\\partial \\theta_{0}} J{\\left(\\theta_{0},\\theta_{1} \\right)} = \\frac{\\sum_{i=1}^{m} \\left(2 \\theta_{0} + 2 \\theta_{1} x_{i} - 2 y_{i}\\right)}{2 m}$"
      ],
      "text/plain": [
       "                   m                          \n",
       "                  ___                         \n",
       "                  ╲                           \n",
       "                   ╲   (2⋅θ₀ + 2⋅θ₁⋅xᵢ - 2⋅yᵢ)\n",
       "                   ╱                          \n",
       "                  ╱                           \n",
       "                  ‾‾‾                         \n",
       " ∂               i = 1                        \n",
       "───(J(θ₀, θ₁)) = ─────────────────────────────\n",
       "∂θ₀                           2⋅m             "
      ]
     },
     "execution_count": 6,
     "metadata": {},
     "output_type": "execute_result"
    }
   ],
   "source": [
    "# 成本函数对 theta_0 求偏导\n",
    "relational.Eq(diff(Function(\"J\")(theta_0, theta_1), theta_0), diff(j, theta_0))"
   ]
  },
  {
   "cell_type": "code",
   "execution_count": 7,
   "metadata": {},
   "outputs": [
    {
     "data": {
      "image/png": "[encoded data removed]",
      "text/latex": [
       "$\\displaystyle \\frac{\\partial}{\\partial \\theta_{1}} J{\\left(\\theta_{0},\\theta_{1} \\right)} = \\frac{\\sum_{i=1}^{m} 2 x_{i} \\left(\\theta_{0} + \\theta_{1} x_{i} - y_{i}\\right)}{2 m}$"
      ],
      "text/plain": [
       "                   m                         \n",
       "                  ___                        \n",
       "                  ╲                          \n",
       "                   ╲   2⋅xᵢ⋅(θ₀ + θ₁⋅xᵢ - yᵢ)\n",
       "                   ╱                         \n",
       "                  ╱                          \n",
       "                  ‾‾‾                        \n",
       " ∂               i = 1                       \n",
       "───(J(θ₀, θ₁)) = ────────────────────────────\n",
       "∂θ₁                          2⋅m             "
      ]
     },
     "execution_count": 7,
     "metadata": {},
     "output_type": "execute_result"
    }
   ],
   "source": [
    "# 成本函数对 theta_1 求偏导\n",
    "relational.Eq(diff(Function(\"J\")(theta_0, theta_1), theta_1), diff(j, theta_1))"
   ]
  }
 ],
 "metadata": {
  "kernelspec": {
   "display_name": "Python 3",
   "language": "python",
   "name": "python3"
  },
  "language_info": {
   "codemirror_mode": {
    "name": "ipython",
    "version": 3
   },
   "file_extension": ".py",
   "mimetype": "text/x-python",
   "name": "python",
   "nbconvert_exporter": "python",
   "pygments_lexer": "ipython3",
   "version": "3.6.7"
  },
  "toc": {
   "base_numbering": 1,
   "nav_menu": {},
   "number_sections": false,
   "sideBar": false,
   "skip_h1_title": false,
   "title_cell": "Table of Contents",
   "title_sidebar": "Contents",
   "toc_cell": false,
   "toc_position": {},
   "toc_section_display": false,
   "toc_window_display": false
  }
 },
 "nbformat": 4,
 "nbformat_minor": 2
}
